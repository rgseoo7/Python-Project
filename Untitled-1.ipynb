{
 "cells": [
  {
   "cell_type": "code",
   "execution_count": null,
   "metadata": {},
   "outputs": [],
   "source": [
    "import pandas as pd\n",
    "import numpy as np\n",
    "import matplotlib.pyplot as plt\n",
    "\n",
    "# 2. Dataset of power consumption of three different distribution networks of Tetouan ctiy located north Morocco\n",
    "# Originally had 52417 instances and after cleaning, we were left with about 401 data points.\n",
    "df= pd.read_csv('/Users/rgseoo7/Downloads/Tetuan City power consumption.csv')\n",
    "\n",
    "# 3. Calculation of statistics\n",
    "# Here we chose two features: temperature and wind speed and calculated the mean, median, variance, and standard deviation.\n",
    "# Here the agg function will use the numpy import to calculate the temperature and wind speed mean, median, variance, and standard deviation\n",
    "# given the statistics, we can understand how to extarct data from a row or column to calculate certain statistics.\n",
    "columns = ['Temperature','Wind Speed']\n",
    "mean = df[columns].agg(np.mean)\n",
    "median = df[columns].agg(np.median)\n",
    "variance = df[columns].agg(np.var)\n",
    "std = df[columns].agg(np.std)\n",
    "\n",
    "print('Mean Value:\\n',mean)\n",
    "print('Median Value:\\n',median)\n",
    "print('Variance Value:\\n',variance)\n",
    "print('Standard Deviation Value:\\n',std)"
   ]
  },
  {
   "cell_type": "markdown",
   "metadata": {},
   "source": []
  }
 ],
 "metadata": {
  "language_info": {
   "name": "python"
  },
  "orig_nbformat": 4
 },
 "nbformat": 4,
 "nbformat_minor": 2
}
